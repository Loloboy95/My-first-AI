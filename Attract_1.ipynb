{
 "cells": [
  {
   "cell_type": "code",
   "execution_count": 129,
   "id": "7458e549",
   "metadata": {},
   "outputs": [],
   "source": [
    "import pandas as pd\n",
    "import requests\n",
    "from bs4 import BeautifulSoup\n",
    "import re\n",
    "import numpy as np"
   ]
  },
  {
   "cell_type": "code",
   "execution_count": 99,
   "id": "8c53894b",
   "metadata": {},
   "outputs": [],
   "source": [
    "url = \"https://www.avito.ma/fr/maroc/t%C3%A9l%C3%A9phones-%C3%A0_vendre\"\n",
    "page = requests.get(url)\n",
    "pageSoup = BeautifulSoup(page.content,\"html.parser\")"
   ]
  },
  {
   "cell_type": "code",
   "execution_count": 100,
   "id": "d3acb601",
   "metadata": {},
   "outputs": [
    {
     "data": {
      "text/plain": [
       "['2 800 DH',\n",
       " '180 DH',\n",
       " 'Prix non specifié',\n",
       " '3 100 DH',\n",
       " '558 DH',\n",
       " '1 650 DH',\n",
       " '708 DH',\n",
       " '288 DH',\n",
       " 'Prix non specifié',\n",
       " 'Prix non specifié',\n",
       " '1 600 DH',\n",
       " 'Prix non specifié',\n",
       " '6 300 DH',\n",
       " 'Prix non specifié',\n",
       " '150 DH',\n",
       " '1 850 DH',\n",
       " '650 DH',\n",
       " '1 100 DH',\n",
       " '2 500 DH',\n",
       " '4 300 DH',\n",
       " '2 800 DH',\n",
       " '400 DH',\n",
       " '4 500 DH',\n",
       " 'Prix non specifié',\n",
       " '750 DH',\n",
       " '399 DH',\n",
       " '1 850 DH',\n",
       " '3 300 DH',\n",
       " '449 DH',\n",
       " '3 300 DH',\n",
       " '349 DH',\n",
       " '699 DH',\n",
       " '6 450 DH',\n",
       " '750 DH',\n",
       " '7 000 DH']"
      ]
     },
     "execution_count": 100,
     "metadata": {},
     "output_type": "execute_result"
    }
   ],
   "source": [
    "container = pageSoup.find(\"div\",{\"class\":\"sc-1nre5ec-0 gpXkJn listing\"})\n",
    "regex = re.compile(\"adListCard*\")\n",
    "elements = container.find_all(\"div\",{\"data-testid\":re.compile(regex)})\n",
    "prices = []\n",
    "for element in elements:\n",
    "    prices.append(element.find(\"span\",{\"data-testid\":\"adPrice\"}).get_text())\n",
    "prices\n"
   ]
  },
  {
   "cell_type": "code",
   "execution_count": 101,
   "id": "8a01e726",
   "metadata": {},
   "outputs": [
    {
     "name": "stdout",
     "output_type": "stream",
     "text": [
      "35\n"
     ]
    }
   ],
   "source": [
    "print(len(prices))"
   ]
  },
  {
   "cell_type": "code",
   "execution_count": 102,
   "id": "b70429f8",
   "metadata": {},
   "outputs": [
    {
     "data": {
      "text/plain": [
       "['iPhone X 256 Gb ',\n",
       " 'Télephone fixe ALCATEL T26',\n",
       " 'IPhone 12 64 G etat neuf avec sa boîte ',\n",
       " 'Phone 8 plus',\n",
       " 'IP PHONE GRANDSTREAM GXP 1625 POE',\n",
       " 'Samsung M21 ',\n",
       " 'Grandstream GXP1628',\n",
       " 'poste Alcatel T76 avec afficheur',\n",
       " 'IPhone 11 128G a tt les colleurs neuf livrions tt',\n",
       " 'IPad Pro 10 5 pouce 256 G WiFi 4G',\n",
       " 'Oppo A54',\n",
       " 'IPhone 12 64G 128 G 256 état neuf ',\n",
       " 'Iphone 11 pro max ',\n",
       " 'des telephones nokia Samsung motorola sony',\n",
       " 'écouteurs original pour iphone ',\n",
       " 'Samsung a22',\n",
       " 'OPPO A3s',\n",
       " 'Concord M15 (3g-32g) état comme neuf',\n",
       " 'Garmin vivoactive 4s',\n",
       " 'Motorola Edge Plus 265 Gb',\n",
       " 'mi note 10 ',\n",
       " 'Samsung a2 core 16g',\n",
       " 'iPhone Xmax ',\n",
       " 'IPhone 12 mini/IPad Air/MacBook/oppo/Samsung',\n",
       " 'Huawei y7 prime 2019 ',\n",
       " 'Afficheur Samsung A01 Original Garantie',\n",
       " 'Redmi Note9 Pro Tres Bon État ',\n",
       " 'Iphone xs 64 G',\n",
       " 'Afficheur Samsung A11 Original Garantie',\n",
       " 'Iphone xs 64 G etat de baterie 78',\n",
       " 'Afficheur Original Garantie Samsung J4 Core',\n",
       " 'Afficheur iPhone X /XS (GX)',\n",
       " ' HP ELITEBOOK 840 G6',\n",
       " 'infinix hot 5 ',\n",
       " 'Smartphone Galaxy S21 Ultra 5G ']"
      ]
     },
     "execution_count": 102,
     "metadata": {},
     "output_type": "execute_result"
    }
   ],
   "source": [
    "container = pageSoup.find(\"div\",{\"class\":\"sc-1nre5ec-0 gpXkJn listing\"})\n",
    "regex = re.compile(\"adListCard*\")\n",
    "elements = container.find_all(\"div\",{\"data-testid\":re.compile(regex)})\n",
    "noms = []\n",
    "for elt in elements:\n",
    "    noms.append(elt.find(\"span\",{\"data-testid\":\"adSubject\"}).get_text())\n",
    "noms"
   ]
  },
  {
   "cell_type": "code",
   "execution_count": 103,
   "id": "23d58af2",
   "metadata": {},
   "outputs": [
    {
     "name": "stdout",
     "output_type": "stream",
     "text": [
      "35\n"
     ]
    }
   ],
   "source": [
    "print(len(noms))"
   ]
  },
  {
   "cell_type": "code",
   "execution_count": 116,
   "id": "78d1d025",
   "metadata": {},
   "outputs": [],
   "source": [
    "data=zip(noms,prices)"
   ]
  },
  {
   "cell_type": "code",
   "execution_count": 117,
   "id": "5e3072d7",
   "metadata": {},
   "outputs": [],
   "source": [
    "data_base = pd.DataFrame.from_dict(data)"
   ]
  },
  {
   "cell_type": "code",
   "execution_count": 118,
   "id": "b3e3d2bd",
   "metadata": {},
   "outputs": [
    {
     "name": "stdout",
     "output_type": "stream",
     "text": [
      "                                                    0                  1\n",
      "0                                    iPhone X 256 Gb            2 800 DH\n",
      "1                          Télephone fixe ALCATEL T26             180 DH\n",
      "2             IPhone 12 64 G etat neuf avec sa boîte   Prix non specifié\n",
      "3                                        Phone 8 plus           3 100 DH\n",
      "4                   IP PHONE GRANDSTREAM GXP 1625 POE             558 DH\n",
      "5                                        Samsung M21            1 650 DH\n",
      "6                                 Grandstream GXP1628             708 DH\n",
      "7                    poste Alcatel T76 avec afficheur             288 DH\n",
      "8   IPhone 11 128G a tt les colleurs neuf livrions tt  Prix non specifié\n",
      "9                   IPad Pro 10 5 pouce 256 G WiFi 4G  Prix non specifié\n",
      "10                                           Oppo A54           1 600 DH\n",
      "11                 IPhone 12 64G 128 G 256 état neuf   Prix non specifié\n",
      "12                                 Iphone 11 pro max            6 300 DH\n",
      "13         des telephones nokia Samsung motorola sony  Prix non specifié\n",
      "14                    écouteurs original pour iphone              150 DH\n",
      "15                                        Samsung a22           1 850 DH\n",
      "16                                           OPPO A3s             650 DH\n",
      "17               Concord M15 (3g-32g) état comme neuf           1 100 DH\n",
      "18                               Garmin vivoactive 4s           2 500 DH\n",
      "19                          Motorola Edge Plus 265 Gb           4 300 DH\n",
      "20                                        mi note 10            2 800 DH\n",
      "21                                Samsung a2 core 16g             400 DH\n",
      "22                                       iPhone Xmax            4 500 DH\n",
      "23       IPhone 12 mini/IPad Air/MacBook/oppo/Samsung  Prix non specifié\n",
      "24                              Huawei y7 prime 2019              750 DH\n",
      "25            Afficheur Samsung A01 Original Garantie             399 DH\n",
      "26                     Redmi Note9 Pro Tres Bon État            1 850 DH\n",
      "27                                     Iphone xs 64 G           3 300 DH\n",
      "28            Afficheur Samsung A11 Original Garantie             449 DH\n",
      "29                  Iphone xs 64 G etat de baterie 78           3 300 DH\n",
      "30        Afficheur Original Garantie Samsung J4 Core             349 DH\n",
      "31                        Afficheur iPhone X /XS (GX)             699 DH\n",
      "32                                HP ELITEBOOK 840 G6           6 450 DH\n",
      "33                                     infinix hot 5              750 DH\n",
      "34                    Smartphone Galaxy S21 Ultra 5G            7 000 DH\n"
     ]
    }
   ],
   "source": [
    "print(data_base)"
   ]
  },
  {
   "cell_type": "code",
   "execution_count": 119,
   "id": "c1685f7c",
   "metadata": {},
   "outputs": [
    {
     "data": {
      "text/html": [
       "<div>\n",
       "<style scoped>\n",
       "    .dataframe tbody tr th:only-of-type {\n",
       "        vertical-align: middle;\n",
       "    }\n",
       "\n",
       "    .dataframe tbody tr th {\n",
       "        vertical-align: top;\n",
       "    }\n",
       "\n",
       "    .dataframe thead th {\n",
       "        text-align: right;\n",
       "    }\n",
       "</style>\n",
       "<table border=\"1\" class=\"dataframe\">\n",
       "  <thead>\n",
       "    <tr style=\"text-align: right;\">\n",
       "      <th></th>\n",
       "      <th>0</th>\n",
       "      <th>1</th>\n",
       "    </tr>\n",
       "  </thead>\n",
       "  <tbody>\n",
       "    <tr>\n",
       "      <th>0</th>\n",
       "      <td>iPhone X 256 Gb</td>\n",
       "      <td>2 800 DH</td>\n",
       "    </tr>\n",
       "    <tr>\n",
       "      <th>1</th>\n",
       "      <td>Télephone fixe ALCATEL T26</td>\n",
       "      <td>180 DH</td>\n",
       "    </tr>\n",
       "    <tr>\n",
       "      <th>2</th>\n",
       "      <td>IPhone 12 64 G etat neuf avec sa boîte</td>\n",
       "      <td>Prix non specifié</td>\n",
       "    </tr>\n",
       "    <tr>\n",
       "      <th>3</th>\n",
       "      <td>Phone 8 plus</td>\n",
       "      <td>3 100 DH</td>\n",
       "    </tr>\n",
       "    <tr>\n",
       "      <th>4</th>\n",
       "      <td>IP PHONE GRANDSTREAM GXP 1625 POE</td>\n",
       "      <td>558 DH</td>\n",
       "    </tr>\n",
       "  </tbody>\n",
       "</table>\n",
       "</div>"
      ],
      "text/plain": [
       "                                         0                  1\n",
       "0                         iPhone X 256 Gb            2 800 DH\n",
       "1               Télephone fixe ALCATEL T26             180 DH\n",
       "2  IPhone 12 64 G etat neuf avec sa boîte   Prix non specifié\n",
       "3                             Phone 8 plus           3 100 DH\n",
       "4        IP PHONE GRANDSTREAM GXP 1625 POE             558 DH"
      ]
     },
     "execution_count": 119,
     "metadata": {},
     "output_type": "execute_result"
    }
   ],
   "source": [
    "data_base.head()"
   ]
  },
  {
   "cell_type": "code",
   "execution_count": 120,
   "id": "62678aca",
   "metadata": {},
   "outputs": [
    {
     "data": {
      "text/plain": [
       "<bound method NDFrame.to_csv of                                                     0                  1\n",
       "0                                    iPhone X 256 Gb            2 800 DH\n",
       "1                          Télephone fixe ALCATEL T26             180 DH\n",
       "2             IPhone 12 64 G etat neuf avec sa boîte   Prix non specifié\n",
       "3                                        Phone 8 plus           3 100 DH\n",
       "4                   IP PHONE GRANDSTREAM GXP 1625 POE             558 DH\n",
       "5                                        Samsung M21            1 650 DH\n",
       "6                                 Grandstream GXP1628             708 DH\n",
       "7                    poste Alcatel T76 avec afficheur             288 DH\n",
       "8   IPhone 11 128G a tt les colleurs neuf livrions tt  Prix non specifié\n",
       "9                   IPad Pro 10 5 pouce 256 G WiFi 4G  Prix non specifié\n",
       "10                                           Oppo A54           1 600 DH\n",
       "11                 IPhone 12 64G 128 G 256 état neuf   Prix non specifié\n",
       "12                                 Iphone 11 pro max            6 300 DH\n",
       "13         des telephones nokia Samsung motorola sony  Prix non specifié\n",
       "14                    écouteurs original pour iphone              150 DH\n",
       "15                                        Samsung a22           1 850 DH\n",
       "16                                           OPPO A3s             650 DH\n",
       "17               Concord M15 (3g-32g) état comme neuf           1 100 DH\n",
       "18                               Garmin vivoactive 4s           2 500 DH\n",
       "19                          Motorola Edge Plus 265 Gb           4 300 DH\n",
       "20                                        mi note 10            2 800 DH\n",
       "21                                Samsung a2 core 16g             400 DH\n",
       "22                                       iPhone Xmax            4 500 DH\n",
       "23       IPhone 12 mini/IPad Air/MacBook/oppo/Samsung  Prix non specifié\n",
       "24                              Huawei y7 prime 2019              750 DH\n",
       "25            Afficheur Samsung A01 Original Garantie             399 DH\n",
       "26                     Redmi Note9 Pro Tres Bon État            1 850 DH\n",
       "27                                     Iphone xs 64 G           3 300 DH\n",
       "28            Afficheur Samsung A11 Original Garantie             449 DH\n",
       "29                  Iphone xs 64 G etat de baterie 78           3 300 DH\n",
       "30        Afficheur Original Garantie Samsung J4 Core             349 DH\n",
       "31                        Afficheur iPhone X /XS (GX)             699 DH\n",
       "32                                HP ELITEBOOK 840 G6           6 450 DH\n",
       "33                                     infinix hot 5              750 DH\n",
       "34                    Smartphone Galaxy S21 Ultra 5G            7 000 DH>"
      ]
     },
     "execution_count": 120,
     "metadata": {},
     "output_type": "execute_result"
    }
   ],
   "source": [
    "data_base.to_csv"
   ]
  },
  {
   "cell_type": "code",
   "execution_count": 125,
   "id": "95eb2b1e",
   "metadata": {},
   "outputs": [
    {
     "ename": "ModuleNotFoundError",
     "evalue": "No module named 'google'",
     "output_type": "error",
     "traceback": [
      "\u001b[1;31m---------------------------------------------------------------------------\u001b[0m",
      "\u001b[1;31mModuleNotFoundError\u001b[0m                       Traceback (most recent call last)",
      "\u001b[1;32m<ipython-input-125-b57e5b184f96>\u001b[0m in \u001b[0;36m<module>\u001b[1;34m\u001b[0m\n\u001b[1;32m----> 1\u001b[1;33m \u001b[1;32mfrom\u001b[0m \u001b[0mgoogle\u001b[0m\u001b[1;33m.\u001b[0m\u001b[0mcolab\u001b[0m \u001b[1;32mimport\u001b[0m \u001b[0mfiles\u001b[0m\u001b[1;33m\u001b[0m\u001b[1;33m\u001b[0m\u001b[0m\n\u001b[0m\u001b[0;32m      2\u001b[0m \u001b[0mfiles\u001b[0m\u001b[1;33m.\u001b[0m\u001b[0mdownload\u001b[0m\u001b[1;33m(\u001b[0m\u001b[1;34m'data_base'\u001b[0m\u001b[1;33m)\u001b[0m\u001b[1;33m\u001b[0m\u001b[1;33m\u001b[0m\u001b[0m\n",
      "\u001b[1;31mModuleNotFoundError\u001b[0m: No module named 'google'"
     ]
    }
   ],
   "source": [
    "from google.colab import files\n",
    "files.download('data_base')"
   ]
  },
  {
   "cell_type": "code",
   "execution_count": null,
   "id": "4abb7426",
   "metadata": {},
   "outputs": [],
   "source": []
  }
 ],
 "metadata": {
  "kernelspec": {
   "display_name": "Python 3",
   "language": "python",
   "name": "python3"
  },
  "language_info": {
   "codemirror_mode": {
    "name": "ipython",
    "version": 3
   },
   "file_extension": ".py",
   "mimetype": "text/x-python",
   "name": "python",
   "nbconvert_exporter": "python",
   "pygments_lexer": "ipython3",
   "version": "3.8.8"
  }
 },
 "nbformat": 4,
 "nbformat_minor": 5
}
